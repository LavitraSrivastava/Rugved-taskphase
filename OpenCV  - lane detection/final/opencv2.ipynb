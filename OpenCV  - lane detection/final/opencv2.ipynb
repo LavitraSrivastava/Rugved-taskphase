{
 "cells": [
  {
   "cell_type": "code",
   "execution_count": 9,
   "metadata": {},
   "outputs": [],
   "source": [
    "import cv2\n",
    "import numpy as np\n",
    "import matplotlib.pyplot as plt"
   ]
  },
  {
   "cell_type": "code",
   "execution_count": 10,
   "metadata": {},
   "outputs": [],
   "source": [
    "video = cv2.VideoCapture(\"road_car_view.mp4\")"
   ]
  },
  {
   "cell_type": "code",
   "execution_count": 11,
   "metadata": {},
   "outputs": [],
   "source": [
    "def make_coord(frame,para):\n",
    "    slope,inter=para\n",
    "    y1=frame.shape[0]\n",
    "    y2=int(y1*(3/5))\n",
    "    x1=int((y1-inter)/slope)\n",
    "    x2=int((y2-inter)/slope)\n",
    "    return np.array([x1,y2,x2,y2])"
   ]
  },
  {
   "cell_type": "code",
   "execution_count": 12,
   "metadata": {},
   "outputs": [],
   "source": [
    "def avg_slope_inter(frame,lines):\n",
    "    left_fit=[]\n",
    "    right_fit=[]\n",
    "    for line in lines:\n",
    "        x1,y1,x2,y2=line.reshape(4)\n",
    "        para=np.polyfit((x1,x2),(y1,y2),1)\n",
    "        slope=para[0]\n",
    "        inter=para[1]\n",
    "        if slope<0:#something wrong here\n",
    "            left_fit.append((slope,inter))\n",
    "        else:\n",
    "            right_fit.append((slope,inter))\n",
    "    if left_fit:\n",
    "        left_fit_av=np.average(left_fit,axis=0)\n",
    "        left_line=make_coord(frame,left_fit_av)\n",
    "    if right_fit:\n",
    "        right_fit_av=np.average(right_fit,axis=0)\n",
    "        right_line=make_coord(frame,right_fit_av)\n",
    "    return np.array([left_line,right_line])\n"
   ]
  },
  {
   "cell_type": "code",
   "execution_count": 13,
   "metadata": {},
   "outputs": [],
   "source": [
    "def cannyfunc(frame):\n",
    "    gray = cv2.cvtColor(frame,cv2.COLOR_RGB2GRAY) #gray\n",
    "    blur = cv2.GaussianBlur(gray,(5,5),0)\n",
    "    #lower_y=np.array([18,94,140])\n",
    "    #upper_y=np.array([48,255,255])\n",
    "    #mask = cv2.inRange(blur,lower_y,upper_y)\n",
    "    canny=cv2.Canny(blur,50,150) #maybe 50,150\n",
    "    return canny"
   ]
  },
  {
   "cell_type": "code",
   "execution_count": 14,
   "metadata": {},
   "outputs": [],
   "source": [
    "def roi(frame):\n",
    "    height = frame.shape[0]\n",
    "    width = frame.shape[1]\n",
    "    polygon = np.array([[(0,height),(width,height),(width,600),(700,500),(0,500)]])\n",
    "    mask = np.zeros_like(frame)\n",
    "    cv2.fillPoly(mask,polygon,255)\n",
    "    masked_frame=cv2.bitwise_and(frame,mask)\n",
    "    return masked_frame"
   ]
  },
  {
   "cell_type": "code",
   "execution_count": 15,
   "metadata": {},
   "outputs": [],
   "source": [
    "def display_lines(frame,lines):\n",
    "    line_frame=np.zeros_like(frame)\n",
    "    if lines is not None:\n",
    "        for line in lines:\n",
    "            x1,y1,x2,y2=line.reshape(4)\n",
    "            cv2.line(line_frame,(x1,y1),(x2,y2),(255,0,0),10)\n",
    "    return line_frame"
   ]
  },
  {
   "cell_type": "code",
   "execution_count": 16,
   "metadata": {},
   "outputs": [
    {
     "ename": "UnboundLocalError",
     "evalue": "local variable 'left_line' referenced before assignment",
     "output_type": "error",
     "traceback": [
      "\u001b[0;31m---------------------------------------------------------------------------\u001b[0m",
      "\u001b[0;31mUnboundLocalError\u001b[0m                         Traceback (most recent call last)",
      "\u001b[1;32m/home/lavitra/Documents/GitHub/Rugved-taskphase/OpenCV  - lane detection/test/opencv2.ipynb Cell 8\u001b[0m line \u001b[0;36m7\n\u001b[1;32m      <a href='vscode-notebook-cell:/home/lavitra/Documents/GitHub/Rugved-taskphase/OpenCV%20%20-%20lane%20detection/test/opencv2.ipynb#W5sZmlsZQ%3D%3D?line=4'>5</a>\u001b[0m cropped_frame\u001b[39m=\u001b[39mroi(canny)\n\u001b[1;32m      <a href='vscode-notebook-cell:/home/lavitra/Documents/GitHub/Rugved-taskphase/OpenCV%20%20-%20lane%20detection/test/opencv2.ipynb#W5sZmlsZQ%3D%3D?line=5'>6</a>\u001b[0m lines\u001b[39m=\u001b[39mcv2\u001b[39m.\u001b[39mHoughLinesP(cropped_frame,\u001b[39m2\u001b[39m,np\u001b[39m.\u001b[39mpi\u001b[39m/\u001b[39m\u001b[39m180\u001b[39m,\u001b[39m100\u001b[39m,np\u001b[39m.\u001b[39marray([]),minLineLength\u001b[39m=\u001b[39m\u001b[39m40\u001b[39m,maxLineGap\u001b[39m=\u001b[39m\u001b[39m5\u001b[39m)\n\u001b[0;32m----> <a href='vscode-notebook-cell:/home/lavitra/Documents/GitHub/Rugved-taskphase/OpenCV%20%20-%20lane%20detection/test/opencv2.ipynb#W5sZmlsZQ%3D%3D?line=6'>7</a>\u001b[0m avg_lines \u001b[39m=\u001b[39m avg_slope_inter(lane_frame,lines)\n\u001b[1;32m      <a href='vscode-notebook-cell:/home/lavitra/Documents/GitHub/Rugved-taskphase/OpenCV%20%20-%20lane%20detection/test/opencv2.ipynb#W5sZmlsZQ%3D%3D?line=7'>8</a>\u001b[0m line_frame \u001b[39m=\u001b[39m display_lines(or_frame,avg_lines)\n\u001b[1;32m      <a href='vscode-notebook-cell:/home/lavitra/Documents/GitHub/Rugved-taskphase/OpenCV%20%20-%20lane%20detection/test/opencv2.ipynb#W5sZmlsZQ%3D%3D?line=8'>9</a>\u001b[0m combo\u001b[39m=\u001b[39mcv2\u001b[39m.\u001b[39maddWeighted(lane_frame,\u001b[39m0.8\u001b[39m,line_frame,\u001b[39m1\u001b[39m,\u001b[39m1\u001b[39m)\n",
      "\u001b[1;32m/home/lavitra/Documents/GitHub/Rugved-taskphase/OpenCV  - lane detection/test/opencv2.ipynb Cell 8\u001b[0m line \u001b[0;36m1\n\u001b[1;32m     <a href='vscode-notebook-cell:/home/lavitra/Documents/GitHub/Rugved-taskphase/OpenCV%20%20-%20lane%20detection/test/opencv2.ipynb#W5sZmlsZQ%3D%3D?line=16'>17</a>\u001b[0m     right_fit_av\u001b[39m=\u001b[39mnp\u001b[39m.\u001b[39maverage(right_fit,axis\u001b[39m=\u001b[39m\u001b[39m0\u001b[39m)\n\u001b[1;32m     <a href='vscode-notebook-cell:/home/lavitra/Documents/GitHub/Rugved-taskphase/OpenCV%20%20-%20lane%20detection/test/opencv2.ipynb#W5sZmlsZQ%3D%3D?line=17'>18</a>\u001b[0m     right_line\u001b[39m=\u001b[39mmake_coord(frame,right_fit_av)\n\u001b[0;32m---> <a href='vscode-notebook-cell:/home/lavitra/Documents/GitHub/Rugved-taskphase/OpenCV%20%20-%20lane%20detection/test/opencv2.ipynb#W5sZmlsZQ%3D%3D?line=18'>19</a>\u001b[0m \u001b[39mreturn\u001b[39;00m np\u001b[39m.\u001b[39marray([left_line,right_line])\n",
      "\u001b[0;31mUnboundLocalError\u001b[0m: local variable 'left_line' referenced before assignment"
     ]
    }
   ],
   "source": [
    "while True:\n",
    "    ret, or_frame = video.read()\n",
    "    if not ret:\n",
    "        video=cv2.VideoCapture(\"road_car_view.mp4\")\n",
    "        continue\n",
    "    lane_frame = np.copy(or_frame)\n",
    "    canny = cannyfunc(lane_frame)\n",
    "    cropped_frame=roi(canny)\n",
    "    lines=cv2.HoughLinesP(cropped_frame,2,np.pi/180,100,np.array([]),minLineLength=40,maxLineGap=5)\n",
    "    avg_lines = avg_slope_inter(lane_frame,lines)\n",
    "    line_frame = display_lines(or_frame,avg_lines)\n",
    "    combo=cv2.addWeighted(lane_frame,0.8,line_frame,1,1)\n",
    "    cv2.imshow(\"result\",line_frame)\n",
    "    cv2.imshow(\"result2\", combo)\n",
    "    key=cv2.waitKey(25)\n",
    "    if(key==27):\n",
    "        break"
   ]
  },
  {
   "cell_type": "code",
   "execution_count": null,
   "metadata": {},
   "outputs": [],
   "source": []
  }
 ],
 "metadata": {
  "kernelspec": {
   "display_name": "Python 3",
   "language": "python",
   "name": "python3"
  },
  "language_info": {
   "codemirror_mode": {
    "name": "ipython",
    "version": 3
   },
   "file_extension": ".py",
   "mimetype": "text/x-python",
   "name": "python",
   "nbconvert_exporter": "python",
   "pygments_lexer": "ipython3",
   "version": "3.8.10"
  }
 },
 "nbformat": 4,
 "nbformat_minor": 2
}
