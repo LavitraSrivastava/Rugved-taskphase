{
 "cells": [
  {
   "cell_type": "code",
   "execution_count": 1,
   "metadata": {},
   "outputs": [],
   "source": [
    "\n",
    "\n",
    "import cv2\n",
    "import numpy as np\n",
    "import matplotlib.pyplot as plt"
   ]
  },
  {
   "cell_type": "code",
   "execution_count": 2,
   "metadata": {},
   "outputs": [],
   "source": [
    "video=cv2.VideoCapture(\"road_car_view.mp4\")"
   ]
  },
  {
   "cell_type": "code",
   "execution_count": 3,
   "metadata": {},
   "outputs": [
    {
     "ename": "KeyboardInterrupt",
     "evalue": "",
     "output_type": "error",
     "traceback": [
      "\u001b[0;31m---------------------------------------------------------------------------\u001b[0m",
      "\u001b[0;31mKeyboardInterrupt\u001b[0m                         Traceback (most recent call last)",
      "\u001b[1;32m/home/lavitra/Documents/GitHub/Rugved-taskphase/OpenCV  - lane detection/opencv.ipynb Cell 3\u001b[0m line \u001b[0;36m2\n\u001b[1;32m     <a href='vscode-notebook-cell:/home/lavitra/Documents/GitHub/Rugved-taskphase/OpenCV%20%20-%20lane%20detection/opencv.ipynb#W2sZmlsZQ%3D%3D?line=26'>27</a>\u001b[0m cv2\u001b[39m.\u001b[39mimshow(\u001b[39m\"\u001b[39m\u001b[39mframe\u001b[39m\u001b[39m\"\u001b[39m,frame)\n\u001b[1;32m     <a href='vscode-notebook-cell:/home/lavitra/Documents/GitHub/Rugved-taskphase/OpenCV%20%20-%20lane%20detection/opencv.ipynb#W2sZmlsZQ%3D%3D?line=27'>28</a>\u001b[0m cv2\u001b[39m.\u001b[39mimshow(\u001b[39m\"\u001b[39m\u001b[39medges\u001b[39m\u001b[39m\"\u001b[39m,edges)\n\u001b[0;32m---> <a href='vscode-notebook-cell:/home/lavitra/Documents/GitHub/Rugved-taskphase/OpenCV%20%20-%20lane%20detection/opencv.ipynb#W2sZmlsZQ%3D%3D?line=28'>29</a>\u001b[0m key\u001b[39m=\u001b[39mcv2\u001b[39m.\u001b[39;49mwaitKey(\u001b[39m25\u001b[39;49m)\n\u001b[1;32m     <a href='vscode-notebook-cell:/home/lavitra/Documents/GitHub/Rugved-taskphase/OpenCV%20%20-%20lane%20detection/opencv.ipynb#W2sZmlsZQ%3D%3D?line=29'>30</a>\u001b[0m \u001b[39mif\u001b[39;00m(key\u001b[39m==\u001b[39m\u001b[39m27\u001b[39m):\n\u001b[1;32m     <a href='vscode-notebook-cell:/home/lavitra/Documents/GitHub/Rugved-taskphase/OpenCV%20%20-%20lane%20detection/opencv.ipynb#W2sZmlsZQ%3D%3D?line=30'>31</a>\u001b[0m     \u001b[39mbreak\u001b[39;00m\n",
      "\u001b[0;31mKeyboardInterrupt\u001b[0m: "
     ]
    },
    {
     "ename": "",
     "evalue": "",
     "output_type": "error",
     "traceback": [
      "\u001b[1;31mThe Kernel crashed while executing code in the the current cell or a previous cell. Please review the code in the cell(s) to identify a possible cause of the failure. Click <a href='https://aka.ms/vscodeJupyterKernelCrash'>here</a> for more info. View Jupyter <a href='command:jupyter.viewOutput'>log</a> for further details."
     ]
    }
   ],
   "source": [
    "while True:\n",
    "    ret, or_frame=video.read()\n",
    "    if not ret:\n",
    "        video=cv2.VideoCapture(\"road_car_view.mp4\")\n",
    "        continue\n",
    "    frame = cv2.GaussianBlur(or_frame,(5,5),0) # to reduce noise in each frame\n",
    "    image=cv2.cvtColor(frame,cv2.COLOR_BGR2HSV) # changing to hsv\n",
    "    \n",
    "    lower_y=np.array([18,94,140])\n",
    "    upper_y=np.array([48,255,255])\n",
    "    \n",
    "\n",
    "    \n",
    "    polygons = np.array([[(0,720),(1280,720),(700,450)]])\n",
    "    mask = np.zeros_like(image)\n",
    "    cv2.fillPoly(mask,polygons,255)\n",
    "    masked_image = cv2.bitwise_and(image,mask)\n",
    "    cv2.imshow(\"mask\",masked_image)\n",
    "    \n",
    "    mask=cv2.inRange(masked_image,lower_y,upper_y) # creating a mask\n",
    "    edges=cv2.Canny(mask,74,150) #using canny to identify the edges\n",
    "    lines=cv2.HoughLinesP(edges,1,np.pi/180,50,maxLineGap=50) #hough transform\n",
    "    if lines is not None:\n",
    "        for line in lines:\n",
    "            x1,y1,x2,y2=line[0]\n",
    "            cv2.line(frame,(x1,y1),(x2,y2),(0,255,0),5) #drawing the lines\n",
    "    cv2.imshow(\"frame\",frame)\n",
    "    cv2.imshow(\"edges\",edges)\n",
    "    key=cv2.waitKey(25)\n",
    "    if(key==27):\n",
    "        break\n"
   ]
  },
  {
   "cell_type": "code",
   "execution_count": null,
   "metadata": {},
   "outputs": [],
   "source": []
  },
  {
   "cell_type": "code",
   "execution_count": null,
   "metadata": {},
   "outputs": [],
   "source": []
  }
 ],
 "metadata": {
  "kernelspec": {
   "display_name": "Python 3",
   "language": "python",
   "name": "python3"
  },
  "language_info": {
   "codemirror_mode": {
    "name": "ipython",
    "version": 3
   },
   "file_extension": ".py",
   "mimetype": "text/x-python",
   "name": "python",
   "nbconvert_exporter": "python",
   "pygments_lexer": "ipython3",
   "version": "3.8.10"
  }
 },
 "nbformat": 4,
 "nbformat_minor": 2
}
