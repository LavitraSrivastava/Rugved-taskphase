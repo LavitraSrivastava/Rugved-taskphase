{
 "cells": [
  {
   "cell_type": "markdown",
   "metadata": {},
   "source": [
    "<h1>Convolutional Neural Network</h1>"
   ]
  },
  {
   "cell_type": "markdown",
   "metadata": {},
   "source": [
    "<h3>Image classification - Dogs vs Cats</h3>"
   ]
  },
  {
   "cell_type": "markdown",
   "metadata": {},
   "source": [
    "<b>Dividing the dataset of 25k images into train and test data</b>"
   ]
  },
  {
   "cell_type": "code",
   "execution_count": 1,
   "metadata": {},
   "outputs": [],
   "source": [
    "import os\n",
    "import random\n",
    "import shutil\n",
    "\n",
    "# Set your source folder and destination folders\n",
    "source_folder = '/home/lavitra/Downloads/dogs-vs-cats/source/'\n",
    "train_folder = '/home/lavitra/Downloads/dogs-vs-cats/train_folder'\n",
    "test_folder = '/home/lavitra/Downloads/dogs-vs-cats/test_folder'\n",
    "\n",
    "# Create destination folders if they don't exist\n",
    "os.makedirs(train_folder, exist_ok=True)\n",
    "os.makedirs(test_folder, exist_ok=True)\n",
    "\n",
    "# Set the ratio for training and testing\n",
    "train_ratio = 0.8\n",
    "\n",
    "# Get a list of all image files\n",
    "all_images = os.listdir(source_folder)\n",
    "\n",
    "# Shuffle the list randomly\n",
    "random.shuffle(all_images)\n",
    "\n",
    "# Split the data\n",
    "train_size = int(train_ratio * len(all_images))\n",
    "train_images = all_images[:train_size]\n",
    "test_images = all_images[train_size:]\n",
    "\n",
    "# Copy images to the respective folders\n",
    "for image in train_images:\n",
    "    shutil.copy(os.path.join(source_folder, image), os.path.join(train_folder, image))\n",
    "\n",
    "for image in test_images:\n",
    "    shutil.copy(os.path.join(source_folder, image), os.path.join(test_folder, image))\n"
   ]
  },
  {
   "cell_type": "code",
   "execution_count": 3,
   "metadata": {},
   "outputs": [],
   "source": [
    "train_folder = '/home/lavitra/Downloads/dogs-vs-cats/train_folder'\n",
    "test_folder = '/home/lavitra/Downloads/dogs-vs-cats/test_folder'"
   ]
  },
  {
   "cell_type": "markdown",
   "metadata": {},
   "source": [
    "<h4>Converting the images to matrices and storing with labels</h4>"
   ]
  },
  {
   "cell_type": "code",
   "execution_count": 2,
   "metadata": {},
   "outputs": [],
   "source": [
    "import numpy as np\n",
    "import cv2\n",
    "import matplotlib.pyplot as plt\n",
    "import pickle\n",
    "import os"
   ]
  },
  {
   "cell_type": "code",
   "execution_count": 4,
   "metadata": {},
   "outputs": [],
   "source": [
    "IMG_SIZE=100\n",
    "\n",
    "train_data = []\n",
    "\n",
    "for img in os.listdir(train_folder):\n",
    "    img_path = os.path.join(train_folder,img)\n",
    "    img_arr = cv2.imread(img_path)\n",
    "    img_arr = cv2.resize(img_arr, (IMG_SIZE,IMG_SIZE))\n",
    "    if(img[0:3]=='cat'):\n",
    "        label=0 #cats represented by 0\n",
    "    else:\n",
    "        label=1 #dogs represented by 1\n",
    "    train_data.append([img_arr,label])"
   ]
  },
  {
   "cell_type": "code",
   "execution_count": 5,
   "metadata": {},
   "outputs": [],
   "source": [
    "test_data = []\n",
    "\n",
    "for img in os.listdir(test_folder):\n",
    "    img_path = os.path.join(test_folder,img)\n",
    "    img_arr = cv2.imread(img_path)\n",
    "    img_arr = cv2.resize(img_arr, (IMG_SIZE,IMG_SIZE))\n",
    "    if(img[0:3]=='cat'):\n",
    "        label=0 #cats represented by 0\n",
    "    else:\n",
    "        label=1 #dogs represented by 1\n",
    "    test_data.append([img_arr,label])"
   ]
  },
  {
   "cell_type": "code",
   "execution_count": 6,
   "metadata": {},
   "outputs": [],
   "source": [
    "X_train = []\n",
    "Y_train = []\n",
    "\n",
    "for features,labels in train_data:\n",
    "    X_train.append(features)\n",
    "    Y_train.append(labels)\n",
    "\n",
    "X_train = np.array(X_train)\n",
    "Y_train = np.array(Y_train)"
   ]
  },
  {
   "cell_type": "code",
   "execution_count": 7,
   "metadata": {},
   "outputs": [],
   "source": [
    "X_test = []\n",
    "Y_test = []\n",
    "\n",
    "for features,labels in test_data:\n",
    "    X_test.append(features)\n",
    "    Y_test.append(labels)\n",
    "\n",
    "X_test = np.array(X_test)\n",
    "Y_test = np.array(Y_test)"
   ]
  },
  {
   "cell_type": "code",
   "execution_count": 8,
   "metadata": {},
   "outputs": [],
   "source": [
    "pickle.dump(X_train, open('X_train.pkl', 'wb'))\n",
    "pickle.dump(Y_train, open('Y_train.pkl', 'wb'))"
   ]
  },
  {
   "cell_type": "code",
   "execution_count": 9,
   "metadata": {},
   "outputs": [],
   "source": [
    "pickle.dump(X_test, open('X_test.pkl', 'wb'))\n",
    "pickle.dump(Y_test, open('Y_test.pkl', 'wb'))"
   ]
  }
 ],
 "metadata": {
  "kernelspec": {
   "display_name": "Python 3",
   "language": "python",
   "name": "python3"
  },
  "language_info": {
   "codemirror_mode": {
    "name": "ipython",
    "version": 3
   },
   "file_extension": ".py",
   "mimetype": "text/x-python",
   "name": "python",
   "nbconvert_exporter": "python",
   "pygments_lexer": "ipython3",
   "version": "3.8.10"
  }
 },
 "nbformat": 4,
 "nbformat_minor": 2
}
