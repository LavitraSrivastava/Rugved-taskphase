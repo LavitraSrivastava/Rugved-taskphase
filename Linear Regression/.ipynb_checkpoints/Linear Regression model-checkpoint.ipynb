{
 "cells": [
  {
   "cell_type": "code",
   "execution_count": 1,
   "id": "f23c7ef2",
   "metadata": {},
   "outputs": [],
   "source": [
    "import pandas as pd\n",
    "import numpy as np\n",
    "import matplotlib.pyplot as plt"
   ]
  },
  {
   "cell_type": "code",
   "execution_count": 2,
   "id": "e9aac92b",
   "metadata": {},
   "outputs": [],
   "source": [
    "# function to the features matrix along with actual output array\n",
    "def get_numpy_data(data_frame, features, output):\n",
    "    data_frame['constant']=1 #adds a constant column to the dataframe\n",
    "    features = ['constant']+features #prepends 'constant' to the features list\n",
    "    features_frame = data_frame[features] #assigns features (from the features list) columns to a separate dataframe\n",
    "    features_matrix = features_frame.to_numpy() #converts features_frame to features_matrix in numpy\n",
    "    output_series = data_frame[output] # gets output column from dataframe to an output_series\n",
    "    output_array = output_series.to_numpy() # converts output_series to numpy array\n",
    "    return (features_matrix, output_array)  \n"
   ]
  },
  {
   "cell_type": "code",
   "execution_count": 3,
   "id": "50d0a0eb",
   "metadata": {},
   "outputs": [],
   "source": [
    "# function to get the predicted outcomes array using the features matrix and weights(calculated from regression model)\n",
    "def predict_outcome(features_matrix, weights):\n",
    "    predictions = []\n",
    "    for i in np.dot(features_matrix, weights):\n",
    "        predictions.append(i)\n",
    "    return (predictions)"
   ]
  },
  {
   "cell_type": "code",
   "execution_count": 4,
   "id": "067e81ad",
   "metadata": {},
   "outputs": [],
   "source": [
    "def feature_derivative(errors, feature):\n",
    "    derivative = 2*(np.dot(feature, errors))\n",
    "    return (derivative)"
   ]
  },
  {
   "cell_type": "code",
   "execution_count": 5,
   "id": "68ecfe9d",
   "metadata": {},
   "outputs": [],
   "source": [
    "def regression_gradient_descent(feature_matrix, output, weights, step_size, tolerance):\n",
    "    converged=False\n",
    "    count=[]\n",
    "    c=0\n",
    "    grad_mag=[]\n",
    "    while not converged:\n",
    "        predictions = predict_outcome(feature_matrix, weights)\n",
    "        errors = predictions - output\n",
    "        gradient_sum_squares=0\n",
    "        for i in range(len(weights)):\n",
    "            derivative = feature_derivative(errors, feature_matrix[:,i])\n",
    "            gradient_sum_squares+=(derivative**2)\n",
    "            weights = weights - (step_size*derivative)\n",
    "        \n",
    "        gradient_magnitude = gradient_sum_squares**0.5\n",
    "        \n",
    "        if gradient_magnitude < tolerance:\n",
    "            converged=True\n",
    "        c+=1\n",
    "        count.append(c)\n",
    "        grad_mag.append(gradient_magnitude)\n",
    "    return(weights, count, grad_mag)\n",
    "            "
   ]
  },
  {
   "cell_type": "code",
   "execution_count": 6,
   "id": "b031505c",
   "metadata": {},
   "outputs": [],
   "source": [
    "#importing the training data\n",
    "train_data = pd.read_csv('train.csv')"
   ]
  },
  {
   "cell_type": "code",
   "execution_count": 7,
   "id": "60708c28",
   "metadata": {},
   "outputs": [],
   "source": [
    "model_features=[]\n",
    "for i in train_data.columns:\n",
    "    model_features.append(i)\n",
    "model_features.pop()\n",
    "my_output = 'SalePrice'\n",
    "(feature_matrix, output) = get_numpy_data(train_data, model_features,my_output)"
   ]
  },
  {
   "cell_type": "code",
   "execution_count": 8,
   "id": "5515e156",
   "metadata": {},
   "outputs": [],
   "source": [
    "#feature scaling\n",
    "feature_matrix = feature_matrix.astype('float64')\n",
    "for i in range(len(model_features)+1):\n",
    "    feature_matrix[:,i]/=feature_matrix[:,i].max()"
   ]
  },
  {
   "cell_type": "code",
   "execution_count": 9,
   "id": "10ece3b5",
   "metadata": {},
   "outputs": [],
   "source": [
    "initial_weights = [50000., 10000., 10000., 1000., 10000., 10000., 10000., 50000., 100000., 10000., 10000.]\n",
    "step_size = 3e-9\n",
    "tolerance = 2.51e7"
   ]
  },
  {
   "cell_type": "code",
   "execution_count": 10,
   "id": "08591296",
   "metadata": {},
   "outputs": [],
   "source": [
    "new_weights, count, grad_mag = regression_gradient_descent(feature_matrix, output, initial_weights, step_size, tolerance)"
   ]
  },
  {
   "cell_type": "code",
   "execution_count": 11,
   "id": "064f7ef0",
   "metadata": {},
   "outputs": [
    {
     "data": {
      "text/plain": [
       "25099993.56941984"
      ]
     },
     "execution_count": 11,
     "metadata": {},
     "output_type": "execute_result"
    }
   ],
   "source": [
    "grad_mag[-1]"
   ]
  },
  {
   "cell_type": "code",
   "execution_count": 12,
   "id": "9e45fa48",
   "metadata": {},
   "outputs": [],
   "source": [
    "xpoints = np.array(count)\n",
    "ypoints = np.array(grad_mag)"
   ]
  },
  {
   "cell_type": "code",
   "execution_count": 13,
   "id": "459aaba4",
   "metadata": {},
   "outputs": [
    {
     "data": {
      "image/png": "[encoded data removed]",
      "text/plain": [
       "<Figure size 640x480 with 1 Axes>"
      ]
     },
     "metadata": {},
     "output_type": "display_data"
    }
   ],
   "source": [
    "plt.plot(xpoints, ypoints)\n",
    "plt.show()"
   ]
  },
  {
   "cell_type": "code",
   "execution_count": 14,
   "id": "342c2d33",
   "metadata": {},
   "outputs": [
    {
     "data": {
      "text/plain": [
       "array([ 52830.09165353,  12830.09165353,  12830.09165353,   3830.09165353,\n",
       "        12830.09165353,  12830.09165353,  12830.09165353,  52830.09165353,\n",
       "       102830.09165353,  12830.09165353,  12830.09165353])"
      ]
     },
     "execution_count": 14,
     "metadata": {},
     "output_type": "execute_result"
    }
   ],
   "source": [
    "new_weights"
   ]
  },
  {
   "cell_type": "code",
   "execution_count": 15,
   "id": "d8b02251",
   "metadata": {},
   "outputs": [],
   "source": [
    "predictions = predict_outcome(feature_matrix, new_weights)\n",
    "errors = predictions - output"
   ]
  },
  {
   "cell_type": "code",
   "execution_count": 16,
   "id": "e1235588",
   "metadata": {},
   "outputs": [
    {
     "data": {
      "text/plain": [
       "array([18845.73579428, 29168.36765649, 37125.53184951, ...,\n",
       "       38416.6823077 , 21188.31732007,  1439.76107362])"
      ]
     },
     "execution_count": 16,
     "metadata": {},
     "output_type": "execute_result"
    }
   ],
   "source": [
    "errors"
   ]
  },
  {
   "cell_type": "code",
   "execution_count": 17,
   "id": "bf37aa23",
   "metadata": {},
   "outputs": [
    {
     "data": {
      "text/plain": [
       "array([89.75775229, 82.21440997, 71.44189858, ..., 66.5941893 ,\n",
       "       87.19739135, 99.20234844])"
      ]
     },
     "execution_count": 17,
     "metadata": {},
     "output_type": "execute_result"
    }
   ],
   "source": [
    "accuracy = (1-(errors/output))*100\n",
    "accuracy"
   ]
  },
  {
   "cell_type": "code",
   "execution_count": 18,
   "id": "71d5e226",
   "metadata": {},
   "outputs": [
    {
     "data": {
      "text/plain": [
       "85.25043504245478"
      ]
     },
     "execution_count": 18,
     "metadata": {},
     "output_type": "execute_result"
    }
   ],
   "source": [
    "av = np.average(accuracy)\n",
    "av"
   ]
  },
  {
   "cell_type": "code",
   "execution_count": 19,
   "id": "0f17f706",
   "metadata": {},
   "outputs": [],
   "source": [
    "#importing test_data\n",
    "test_data = pd.read_csv('test.csv')"
   ]
  },
  {
   "cell_type": "code",
   "execution_count": 20,
   "id": "80a7abc6",
   "metadata": {},
   "outputs": [],
   "source": [
    "test_features=[]\n",
    "for i in test_data.columns:\n",
    "    test_features.append(i)\n",
    "test_features.pop()\n",
    "test_output = 'SalePrice'\n",
    "(test_matrix, t_output) = get_numpy_data(test_data, test_features,test_output)"
   ]
  },
  {
   "cell_type": "code",
   "execution_count": 21,
   "id": "6f552e4b",
   "metadata": {},
   "outputs": [],
   "source": [
    "#feature scaling\n",
    "test_matrix = test_matrix.astype('float64')\n",
    "for i in range(len(test_features)+1):\n",
    "    test_matrix[:,i]/=test_matrix[:,i].max()"
   ]
  },
  {
   "cell_type": "code",
   "execution_count": 22,
   "id": "fd0d5c7f",
   "metadata": {},
   "outputs": [],
   "source": [
    "test_predictions = predict_outcome(test_matrix, new_weights)\n",
    "t_errors = test_predictions - t_output\n",
    "t_accuracy = (1-(t_errors/t_output))*100\n",
    "t_av = np.average(t_accuracy)"
   ]
  },
  {
   "cell_type": "code",
   "execution_count": 23,
   "id": "894cd2a5",
   "metadata": {},
   "outputs": [
    {
     "data": {
      "text/plain": [
       "85.82517672648598"
      ]
     },
     "execution_count": 23,
     "metadata": {},
     "output_type": "execute_result"
    }
   ],
   "source": [
    "t_av"
   ]
  }
 ],
 "metadata": {
  "kernelspec": {
   "display_name": "Python 3 (ipykernel)",
   "language": "python",
   "name": "python3"
  },
  "language_info": {
   "codemirror_mode": {
    "name": "ipython",
    "version": 3
   },
   "file_extension": ".py",
   "mimetype": "text/x-python",
   "name": "python",
   "nbconvert_exporter": "python",
   "pygments_lexer": "ipython3",
   "version": "3.11.1"
  }
 },
 "nbformat": 4,
 "nbformat_minor": 5
}
