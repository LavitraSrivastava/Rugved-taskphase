{
 "cells": [
  {
   "cell_type": "code",
   "execution_count": 1,
   "metadata": {},
   "outputs": [],
   "source": [
    "import numpy as np  # for handling multi-dimensional array operation\n",
    "import pandas as pd  # for reading data from csv \n",
    "# import statsmodels.api as sm  # for finding the p-value~\n",
    "from sklearn.preprocessing import MinMaxScaler  # for normalization\n",
    "from sklearn.model_selection import train_test_split as tts\n",
    "from sklearn.metrics import accuracy_score \n",
    "from sklearn.metrics import recall_score \n",
    "from sklearn.utils import shuffle\n",
    "# >> FEATURE SELECTION << #\n",
    "#def remove_correlated_features(X):\n",
    "#def remove_less_significant_features(X, Y):\n",
    "reg_strength = 10000 # regularization strength\n",
    "learning_rate = 0.000001"
   ]
  },
  {
   "cell_type": "code",
   "execution_count": 2,
   "metadata": {},
   "outputs": [],
   "source": [
    "def compute_cost(W, X, Y):\n",
    "    # calculate hinge loss\n",
    "    N = X.shape[0]\n",
    "    distances = 1 - Y * (np.dot(X, W))\n",
    "    distances[distances < 0] = 0  # equivalent to max(0, distance)\n",
    "    hinge_loss = reg_strength * (np.sum(distances) / N)\n",
    "    \n",
    "    # calculate cost\n",
    "    cost = 1 / 2 * np.dot(W, W) + hinge_loss\n",
    "    return cost"
   ]
  },
  {
   "cell_type": "code",
   "execution_count": 6,
   "metadata": {},
   "outputs": [],
   "source": [
    "def calculate_cost_gradient(W, X_batch, Y_batch):\n",
    "    # if only one example is passed (eg. in case of SGD)\n",
    "    Y_batch = np.array([Y_batch])\n",
    "    X_batch = np.array([X_batch])\n",
    "    distance = 1 - (Y_batch * np.dot(X_batch, W))\n",
    "    dw = np.zeros(len(W))    \n",
    "    for ind, d in enumerate(distance):\n",
    "        if max(0, d) == 0:\n",
    "            di = W\n",
    "        else:\n",
    "            di = W - (reg_strength * Y_batch[ind] * X_batch[ind])\n",
    "        dw += di    \n",
    "    dw = dw/len(Y_batch)  # average\n",
    "    return dw"
   ]
  },
  {
   "cell_type": "code",
   "execution_count": 4,
   "metadata": {},
   "outputs": [],
   "source": [
    "def sgd(features, outputs):\n",
    "    max_epochs = 5000\n",
    "    weights = np.zeros(features.shape[1])\n",
    "    nth = 0\n",
    "    prev_cost = float(\"inf\")\n",
    "    cost_threshold = 0.01  # in percent\n",
    "    # stochastic gradient descent\n",
    "    for epoch in range(1, max_epochs): \n",
    "        # shuffle to prevent repeating update cycles\n",
    "        X, Y = shuffle(features, outputs)\n",
    "        for ind, x in enumerate(X):\n",
    "            ascent = calculate_cost_gradient(weights, x, Y[ind])\n",
    "            weights = weights - (learning_rate * ascent)\n",
    "        \n",
    "        # convergence check on 2^nth epoch\n",
    "        if epoch == 2 ** nth or epoch == max_epochs - 1:\n",
    "            cost = compute_cost(weights, features, outputs)\n",
    "            print(\"Epoch is:{} and Cost is: {}\".format(epoch, cost))\n",
    "            # stoppage criterion\n",
    "            if abs(prev_cost - cost) < cost_threshold * prev_cost:\n",
    "                return weights\n",
    "            prev_cost = cost\n",
    "            nth += 1\n",
    "    return weights"
   ]
  },
  {
   "cell_type": "code",
   "execution_count": 7,
   "metadata": {},
   "outputs": [
    {
     "name": "stdout",
     "output_type": "stream",
     "text": [
      "splitting dataset into train and test sets...\n",
      "training started...\n",
      "Epoch is:1 and Cost is: 5283.266288216451\n",
      "Epoch is:2 and Cost is: 3494.296312958688\n",
      "Epoch is:4 and Cost is: 2495.0194801604516\n",
      "Epoch is:8 and Cost is: 1995.6858160981185\n",
      "Epoch is:16 and Cost is: 1519.139170197456\n",
      "Epoch is:32 and Cost is: 1205.9199867880086\n",
      "Epoch is:64 and Cost is: 978.5145459587268\n",
      "Epoch is:128 and Cost is: 808.4396463563917\n",
      "Epoch is:256 and Cost is: 702.2289718043986\n",
      "Epoch is:512 and Cost is: 645.023663866896\n",
      "Epoch is:1024 and Cost is: 622.5571292392117\n",
      "Epoch is:2048 and Cost is: 615.7340160514601\n",
      "Epoch is:4096 and Cost is: 608.8037498570799\n",
      "Epoch is:4999 and Cost is: 610.2595160585483\n",
      "training finished.\n",
      "weights are: [ 1.34545572  0.84283661  1.14446453  2.17208192 -1.23776451 -3.22334476\n",
      "  3.26791681  6.81875633 -0.46270825  0.1216231   5.67888346 -1.92231947\n",
      "  3.27334311  3.76862072  1.66252483 -2.42774398 -1.757855    0.85248739\n",
      " -1.96579726 -1.85864575  2.71350387  5.3236799   1.05697928  3.0852694\n",
      "  2.21694788 -0.60070763  2.68449359  0.0395481   4.68632876  2.17963764\n",
      " -9.24307471]\n",
      "accuracy on test dataset: 0.9736842105263158\n",
      "recall on test dataset: 0.9534883720930233\n",
      "precision on test dataset: 0.9534883720930233\n"
     ]
    }
   ],
   "source": [
    "\n",
    "data = pd.read_csv('data.csv')    # SVM only accepts numerical values. \n",
    "# Therefore, we will transform the categories M and B into\n",
    "# values 1 and -1 (or -1 and 1), respectively.\n",
    "diagnosis_map = {'M':1, 'B':-1}\n",
    "data['diagnosis'] = data['diagnosis'].map(diagnosis_map)    # drop last column (extra column added by pd)\n",
    "# and unnecessary first column (id)\n",
    "data.drop(data.columns[[-1, 0]], axis=1, inplace=True)\n",
    "# put features & outputs in different DataFrames for convenience\n",
    "Y = data.loc[:, 'diagnosis']  # all rows of 'diagnosis' \n",
    "X = data.iloc[:, 1:]  # all rows of column 1 and ahead (features)# normalize the features using MinMaxScalar from\n",
    "# sklearn.preprocessing\n",
    "X_normalized = MinMaxScaler().fit_transform(X.values)\n",
    "X = pd.DataFrame(X_normalized)\n",
    "# first insert 1 in every row for intercept b\n",
    "X.insert(loc=len(X.columns), column='intercept', value=1)# test_size is the portion of data that will go into test set\n",
    "# random_state is the seed used by the random number generator\n",
    "print(\"splitting dataset into train and test sets...\")\n",
    "X_train, X_test, y_train, y_test = tts(X, Y, test_size=0.2, random_state=42)\n",
    "print(\"training started...\")\n",
    "W = sgd(X_train.to_numpy(), y_train.to_numpy())\n",
    "print(\"training finished.\")\n",
    "print(\"weights are: {}\".format(W))\n",
    "# testing the model on test set\n",
    "y_test_predicted = np.array([])\n",
    "for i in range(X_test.shape[0]):\n",
    "    yp = np.sign(np.dot(W, X_test.to_numpy()[i])) #model\n",
    "    y_test_predicted = np.append(y_test_predicted, yp)\n",
    "print(\"accuracy on test dataset: {}\".format(accuracy_score(y_test.to_numpy(), y_test_predicted)))\n",
    "print(\"recall on test dataset: {}\".format(recall_score(y_test.to_numpy(), y_test_predicted)))\n",
    "print(\"precision on test dataset: {}\".format(recall_score(y_test.to_numpy(), y_test_predicted)))"
   ]
  },
  {
   "cell_type": "code",
   "execution_count": null,
   "metadata": {},
   "outputs": [
    {
     "data": {
      "text/plain": [
       "int"
      ]
     },
     "execution_count": 6,
     "metadata": {},
     "output_type": "execute_result"
    }
   ],
   "source": [
    "a=10\n",
    "type(a)"
   ]
  },
  {
   "cell_type": "code",
   "execution_count": null,
   "metadata": {},
   "outputs": [],
   "source": []
  }
 ],
 "metadata": {
  "kernelspec": {
   "display_name": "Python 3",
   "language": "python",
   "name": "python3"
  },
  "language_info": {
   "codemirror_mode": {
    "name": "ipython",
    "version": 3
   },
   "file_extension": ".py",
   "mimetype": "text/x-python",
   "name": "python",
   "nbconvert_exporter": "python",
   "pygments_lexer": "ipython3",
   "version": "3.8.10"
  }
 },
 "nbformat": 4,
 "nbformat_minor": 2
}
